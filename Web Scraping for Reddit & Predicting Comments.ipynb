{
 "cells": [
  {
   "cell_type": "markdown",
   "metadata": {
    "focus": false,
    "id": "69b9a648-bcc7-490d-9f9b-ea244d156bd6"
   },
   "source": [
    "# Web Scraping for Reddit & Predicting Comments"
   ]
  },
  {
   "cell_type": "code",
   "execution_count": 2,
   "metadata": {
    "collapsed": true
   },
   "outputs": [],
   "source": [
    "import requests\n",
    "import pandas as pd\n",
    "import numpy as np\n",
    "import random\n",
    "import seaborn as sns\n",
    "import matplotlib.pyplot as plt\n",
    "from bs4 import BeautifulSoup\n",
    "from sklearn.model_selection import train_test_split\n",
    "from sklearn.feature_extraction.text import CountVectorizer, TfidfVectorizer\n",
    "from sklearn.ensemble import RandomForestClassifier\n",
    "from sklearn.linear_model import LogisticRegression\n",
    "from sklearn.model_selection import cross_val_score\n",
    "from sklearn.neighbors import KNeighborsClassifier\n",
    "from sklearn.preprocessing import StandardScaler\n",
    "import nltk\n",
    "from nltk.tokenize import RegexpTokenizer\n",
    "from nltk.stem import WordNetLemmatizer\n",
    "from nltk.stem.porter import PorterStemmer\n",
    "\n",
    "%matplotlib inline\n",
    "%config InlineBackend.figure_format = 'retina'"
   ]
  },
  {
   "cell_type": "markdown",
   "metadata": {},
   "source": [
    "# Building My Scraper"
   ]
  },
  {
   "cell_type": "code",
   "execution_count": null,
   "metadata": {
    "collapsed": true
   },
   "outputs": [],
   "source": [
    "# attempt 1\n",
    "\n",
    "end = ''\n",
    "number = 0\n",
    "for i in range(90):\n",
    "    url = 'https://www.reddit.com/hot/' + end\n",
    "    response = requests.get(url, headers= {'User-Agent': 'ChiliDawg'})\n",
    "    html = response.text\n",
    "    soup = BeautifulSoup(html, 'lxml')\n",
    "    titles = [title.text for title in soup.find_all('a', {'data-event-action':'title'})]\n",
    "    all_subr = [subr.text for subr in soup.find_all('a', {'class':'subreddit hover may-blank'})]\n",
    "    times = [time.text for time in soup.find_all('time', {'class':'live-timestamp'})]\n",
    "    timestamps = [time['datetime'] for time in soup.find_all('time', {'class':'live-timestamp'})]\n",
    "    comments = [comment.text for comment in soup.find_all('a', {'data-event-action':'comments'})]\n",
    "    scores2 = []\n",
    "    scores = soup.find_all('div', {'class':'score unvoted'})\n",
    "    for m in scores:\n",
    "        try:\n",
    "            scores2.append(m['title'])\n",
    "        except:\n",
    "            scores2.append(0)\n",
    "    report = soup.find_all('div', {'data-context':'listing'})\n",
    "    last_id_1 = report[-1]\n",
    "    last_id_2 = last_id_1['id']\n",
    "    last_id_3 = last_id_2.split('thing_')[1]\n",
    "    number += 25\n",
    "    end = '?count=' + str(number) + '&after=' + str(last_id_3)\n",
    "    #a_href = soup.find('a', {'rel':'nofollow next'})\n",
    "    #url = a_href['href']\n",
    "    df = pd.DataFrame({'title':titles, 'time':times, 'timestamps':timestamps, 'subreddits':all_subr, \n",
    "                       'comments':comments, 'score':scores2}) \n",
    "    reddit = reddit.append(df)\n",
    "    \n"
   ]
  },
  {
   "cell_type": "code",
   "execution_count": null,
   "metadata": {
    "collapsed": true
   },
   "outputs": [],
   "source": [
    "# test to figure out why my scraper kept on failing\n",
    "\n",
    "end = ''\n",
    "number = 0\n",
    "pidn_list = []\n",
    "for i in range(1000):\n",
    "    try: \n",
    "        url = 'https://www.reddit.com/hot/' + end\n",
    "        response = requests.get(url, headers= {'User-Agent': 'ChiliDawg'})\n",
    "        html = response.text\n",
    "        soup = BeautifulSoup(html, 'lxml')\n",
    "        all_div = soup.find_all('div')\n",
    "        post_id = []\n",
    "        for k in all_div:\n",
    "            if k.has_attr('data-fullname'):\n",
    "                post_id.append(k['data-fullname'])\n",
    "        pidn_list.append(len(post_id))\n",
    "        last_id_1 = post_id[-1]\n",
    "        #number += 25\n",
    "        end = '?count=25&after=' + str(last_id_1)\n",
    "    except:\n",
    "        pass"
   ]
  },
  {
   "cell_type": "code",
   "execution_count": null,
   "metadata": {
    "collapsed": true
   },
   "outputs": [],
   "source": [
    "# working scraper\n",
    "\n",
    "reddit = pd.DataFrame(columns=['title', 'time', 'timestamps', 'subreddits', 'comments', 'crossposts', 'score', 'post_id'])\n",
    "end = ''\n",
    "number = 0\n",
    "for i in range(100):\n",
    "    bad_urls = []\n",
    "    url = 'https://www.reddit.com/hot/' + end\n",
    "    response = requests.get(url, headers= {'User-Agent': 'McGuy'})\n",
    "    if response.status_code != 200:\n",
    "            print(\"Error: Status code: \" + str(response.status_code))\n",
    "    try:\n",
    "        html = response.text\n",
    "        soup = BeautifulSoup(html, 'lxml')\n",
    "        all_div = soup.find_all('div')\n",
    "        titles = [title.text for title in soup.find_all('a', {'data-event-action':'title'})]\n",
    "        times = [time.text for time in soup.find_all('time', {'class':'live-timestamp'})]\n",
    "        post_id = []\n",
    "        all_subr = []\n",
    "        timestamps = []\n",
    "        comments = []\n",
    "        scores = []\n",
    "        crossposts = []\n",
    "        for k in all_div:\n",
    "            if k.has_attr('data-fullname'):\n",
    "                post_id.append(k['data-fullname'])\n",
    "                comments.append(k['data-comments-count'])\n",
    "                scores.append(k['data-score'])\n",
    "                crossposts.append(k['data-num-crossposts'])\n",
    "                timestamps.append(k['data-timestamp'])\n",
    "                all_subr.append(k['data-subreddit-prefixed'])\n",
    "        if len(post_id) == 25:\n",
    "            last_id_1 = post_id[-1]\n",
    "            number += 25\n",
    "            end = '?count=' + str(number) + '&after=' + str(last_id_1)\n",
    "        else:\n",
    "            print(url)\n",
    "            bad_urls.append(url)\n",
    "            pass\n",
    "    except:\n",
    "        print(url)\n",
    "        bad_urls.append(url)\n",
    "        pass\n",
    "    df = pd.DataFrame({'title':titles, \n",
    "                       'time':times, \n",
    "                       'timestamps':timestamps, \n",
    "                       'subreddits':all_subr, \n",
    "                       'comments':comments, \n",
    "                       'crossposts':crossposts, \n",
    "                       'score':scores, \n",
    "                       'post_id':post_id}) \n",
    "    reddit = reddit.append(df)\n"
   ]
  },
  {
   "cell_type": "code",
   "execution_count": null,
   "metadata": {
    "collapsed": true
   },
   "outputs": [],
   "source": [
    "# working random scraper\n",
    "reddit2 = pd.DataFrame(columns=['title', 'time', 'timestamps', 'subreddits', 'comments', 'crossposts', 'score', 'post_id'])\n",
    "\n",
    "for i in range(10):\n",
    "    bad_urls = []\n",
    "    url = 'https://www.reddit.com/r/random/'\n",
    "    try:\n",
    "        g = random.randint(1,6)\n",
    "        for l in range(g):\n",
    "            response = requests.get(url, headers= {'User-Agent': 'McGuy'})\n",
    "            if response.status_code != 200:\n",
    "                    print(\"Error: Status code: \" + str(response.status_code))\n",
    "            html = response.text\n",
    "            soup = BeautifulSoup(html, 'lxml')\n",
    "            a_href = soup.find('a', {'rel':'nofollow next'})\n",
    "            url = a_href['href']\n",
    "        all_div = soup.find_all('div')\n",
    "        titles = [title.text for title in soup.find_all('a', {'data-event-action':'title'})]\n",
    "        times = [time.text for time in soup.find_all('time', {'class':'live-timestamp'})]\n",
    "        post_id = []\n",
    "        all_subr = []\n",
    "        timestamps = []\n",
    "        comments = []\n",
    "        scores = []\n",
    "        crossposts = []\n",
    "        for k in all_div:\n",
    "            if k.has_attr('data-fullname'):\n",
    "                post_id.append(k['data-fullname'])\n",
    "                comments.append(k['data-comments-count'])\n",
    "                scores.append(k['data-score'])\n",
    "                crossposts.append(k['data-num-crossposts'])\n",
    "                timestamps.append(k['data-timestamp'])\n",
    "                all_subr.append(k['data-subreddit-prefixed'])\n",
    "        q = random.randint(0,(len(post_id)-1))\n",
    "        titles = [titles[q]]\n",
    "        times = [times[q]]\n",
    "        post_id = [post_id[q]]\n",
    "        all_subr = [all_subr[q]]\n",
    "        timestamps = [timestamps[q]]\n",
    "        comments = [comments[q]]\n",
    "        scores = [scores[q]]\n",
    "        crossposts = [crossposts[q]]\n",
    "        df2 = pd.DataFrame({'title':titles, \n",
    "                           'time':times, \n",
    "                           'timestamps':timestamps, \n",
    "                           'subreddits':all_subr, \n",
    "                           'comments':comments, \n",
    "                           'crossposts':crossposts, \n",
    "                           'score':scores, \n",
    "                           'post_id':post_id}) \n",
    "        reddit2 = reddit2.append(df2)\n",
    "    except:\n",
    "        print(url)\n",
    "        bad_urls.append(url)\n",
    "        pass\n",
    "    \n",
    "reddit2.to_csv('reddit2.csv')\n"
   ]
  },
  {
   "cell_type": "markdown",
   "metadata": {},
   "source": [
    "# Data Cleaning, Feature Engineering\n",
    "\n",
    "### After running my two scrapers on Python Anywhere and downloading the CSVs"
   ]
  },
  {
   "cell_type": "code",
   "execution_count": 3,
   "metadata": {
    "collapsed": true
   },
   "outputs": [],
   "source": [
    "# import data\n",
    "reddithot = pd.read_csv(\"/Users/christophermarker/Documents/DSI7/Data/Project_3/reddit.csv\")"
   ]
  },
  {
   "cell_type": "code",
   "execution_count": 4,
   "metadata": {
    "collapsed": true
   },
   "outputs": [],
   "source": [
    "# drop uneeded column\n",
    "reddithot.drop('Unnamed: 0', axis=1, inplace=True) "
   ]
  },
  {
   "cell_type": "code",
   "execution_count": 5,
   "metadata": {
    "collapsed": true
   },
   "outputs": [],
   "source": [
    "# sort by largest number of comments then drop all duplicates, only keeping the first\n",
    "reddithot = reddithot.sort_values('comments', ascending=False).drop_duplicates('post_id').sort_index()"
   ]
  },
  {
   "cell_type": "code",
   "execution_count": 6,
   "metadata": {
    "collapsed": true
   },
   "outputs": [],
   "source": [
    "# make all of the 'time since posts' the same format\n",
    "reddithot['time'].replace({'just now':'.5 minutes ago'}, inplace=True)"
   ]
  },
  {
   "cell_type": "code",
   "execution_count": 7,
   "metadata": {
    "collapsed": true
   },
   "outputs": [],
   "source": [
    "# make all of the 'time since posts' the same format\n",
    "reddithot['time'].replace({'1 minute ago':'1 minutes ago'}, inplace=True)"
   ]
  },
  {
   "cell_type": "code",
   "execution_count": 8,
   "metadata": {
    "collapsed": true
   },
   "outputs": [],
   "source": [
    "# make all of the 'time since posts' the same format\n",
    "reddithot['time'].replace({'1 hour ago':'1 hours ago'}, inplace=True)"
   ]
  },
  {
   "cell_type": "code",
   "execution_count": 9,
   "metadata": {
    "collapsed": true
   },
   "outputs": [],
   "source": [
    "# make all of the 'time since posts' the same format\n",
    "reddithot['time'].replace({'1 day ago':'24 hours ago'}, inplace=True)"
   ]
  },
  {
   "cell_type": "code",
   "execution_count": 10,
   "metadata": {
    "collapsed": true
   },
   "outputs": [],
   "source": [
    "# remove 'ago'\n",
    "reddithot['time'] = reddithot['time'].map(lambda x: x.split(' ago')[0])"
   ]
  },
  {
   "cell_type": "code",
   "execution_count": 11,
   "metadata": {
    "collapsed": true
   },
   "outputs": [],
   "source": [
    "# make a new columsn showing the units\n",
    "reddithot['time_units'] = reddithot['time'].map(lambda x: x.split(' ')[1])"
   ]
  },
  {
   "cell_type": "code",
   "execution_count": 12,
   "metadata": {
    "collapsed": true
   },
   "outputs": [],
   "source": [
    "# remove the units from the time column\n",
    "reddithot['time'] = reddithot['time'].map(lambda x: x.split(' ')[0])"
   ]
  },
  {
   "cell_type": "code",
   "execution_count": 13,
   "metadata": {
    "collapsed": true
   },
   "outputs": [],
   "source": [
    "# make the multiplier for hours --> minutes\n",
    "reddithot['time_units'].replace({'hours':'60'}, inplace=True)"
   ]
  },
  {
   "cell_type": "code",
   "execution_count": 14,
   "metadata": {
    "collapsed": true
   },
   "outputs": [],
   "source": [
    "# make the multiplier for minutes --> minutes\n",
    "reddithot['time_units'].replace({'minutes':'1'}, inplace=True)"
   ]
  },
  {
   "cell_type": "code",
   "execution_count": 15,
   "metadata": {
    "collapsed": true
   },
   "outputs": [],
   "source": [
    "# make the unit multipliers floats\n",
    "reddithot['time_units'] = reddithot['time_units'].astype(float)"
   ]
  },
  {
   "cell_type": "code",
   "execution_count": 16,
   "metadata": {
    "collapsed": true
   },
   "outputs": [],
   "source": [
    "# make the times floats\n",
    "reddithot['time'] = reddithot['time'].astype(float)"
   ]
  },
  {
   "cell_type": "code",
   "execution_count": 17,
   "metadata": {
    "collapsed": true
   },
   "outputs": [],
   "source": [
    "# convert all times into minutes\n",
    "reddithot['time_minutes'] = reddithot['time'] * reddithot['time_units']"
   ]
  },
  {
   "cell_type": "code",
   "execution_count": 18,
   "metadata": {
    "collapsed": true
   },
   "outputs": [],
   "source": [
    "# remove unneeded columns\n",
    "reddithot.drop(['time','time_units'], axis=1, inplace=True)"
   ]
  },
  {
   "cell_type": "code",
   "execution_count": 19,
   "metadata": {
    "collapsed": true
   },
   "outputs": [],
   "source": [
    "# engineer comments per minute\n",
    "reddithot['comments_per_minute'] = reddithot['comments'] / reddithot['time_minutes']"
   ]
  },
  {
   "cell_type": "code",
   "execution_count": 20,
   "metadata": {
    "collapsed": true
   },
   "outputs": [],
   "source": [
    "# engineer likes per minute\n",
    "reddithot['likes_per_minute'] = reddithot['score'] / reddithot['time_minutes']"
   ]
  },
  {
   "cell_type": "code",
   "execution_count": 21,
   "metadata": {
    "collapsed": true
   },
   "outputs": [],
   "source": [
    "# make the timestamps usable\n",
    "reddithot['timestamps'] = pd.to_datetime(reddithot['timestamps'], unit='ms')"
   ]
  },
  {
   "cell_type": "code",
   "execution_count": 22,
   "metadata": {
    "collapsed": true
   },
   "outputs": [],
   "source": [
    "# convert from UTC to EST\n",
    "reddithot['timestamps'] = reddithot['timestamps'].dt.tz_localize('UTC').dt.tz_convert('US/Eastern')\n",
    "# this code provided by Josh Sung"
   ]
  },
  {
   "cell_type": "code",
   "execution_count": 23,
   "metadata": {
    "collapsed": true
   },
   "outputs": [],
   "source": [
    "# extract the hour posted from the timestamp\n",
    "reddithot['hour_posted'] = reddithot.timestamps.dt.hour"
   ]
  },
  {
   "cell_type": "code",
   "execution_count": 24,
   "metadata": {
    "collapsed": true
   },
   "outputs": [],
   "source": [
    "# convert the hour posted from UTC to EST\n",
    "reddithot['hour_posted'] = [x - 5 if x >=5 else x + 19 for x in reddithot['hour_posted']]"
   ]
  },
  {
   "cell_type": "code",
   "execution_count": 25,
   "metadata": {
    "collapsed": true
   },
   "outputs": [],
   "source": [
    "# create dummy variables and append them to the dataframe\n",
    "reddithot = pd.concat([reddithot, pd.get_dummies(reddithot['hour_posted'], prefix=True, drop_first=True)], axis=1)"
   ]
  },
  {
   "cell_type": "code",
   "execution_count": 26,
   "metadata": {
    "collapsed": true
   },
   "outputs": [],
   "source": [
    "# get dummy variables for subreddit\n",
    "reddithot = pd.concat([reddithot, pd.get_dummies(reddithot['subreddits'], drop_first=True)], axis=1)"
   ]
  },
  {
   "cell_type": "code",
   "execution_count": 27,
   "metadata": {
    "collapsed": true
   },
   "outputs": [],
   "source": [
    "# engineer a feature if scraped from the 'hot' reddit page\n",
    "reddithot['hot?'] = 1"
   ]
  },
  {
   "cell_type": "code",
   "execution_count": 28,
   "metadata": {
    "collapsed": true
   },
   "outputs": [],
   "source": [
    "# engineer y variable\n",
    "reddithot['above_median_comments?'] = [0 if x <= (np.median(reddithot.comments.values)) else 1 for x in reddithot['comments']]"
   ]
  },
  {
   "cell_type": "code",
   "execution_count": 29,
   "metadata": {
    "collapsed": true
   },
   "outputs": [],
   "source": [
    "# engineer possible alternative y variable\n",
    "reddithot['above_median_cpm?'] = [0 if x <= (np.median(reddithot.comments_per_minute.values)) else 1 for x in reddithot['comments_per_minute']]"
   ]
  },
  {
   "cell_type": "code",
   "execution_count": 30,
   "metadata": {
    "collapsed": true
   },
   "outputs": [],
   "source": [
    "# reset the index\n",
    "reddithot = reddithot.reset_index()"
   ]
  },
  {
   "cell_type": "code",
   "execution_count": 31,
   "metadata": {
    "collapsed": true
   },
   "outputs": [],
   "source": [
    "# drop the old index column\n",
    "reddithot.drop(['index'], axis=1, inplace=True)"
   ]
  },
  {
   "cell_type": "code",
   "execution_count": 32,
   "metadata": {
    "collapsed": true
   },
   "outputs": [],
   "source": [
    "# import data from the random \n",
    "reddit_random = pd.read_csv(\"/Users/christophermarker/Documents/DSI7/Data/Project_3/reddit2.csv\")"
   ]
  },
  {
   "cell_type": "code",
   "execution_count": 33,
   "metadata": {
    "collapsed": true
   },
   "outputs": [],
   "source": [
    "# all of the above combined into a function to clean the random scraper\n",
    "def data_cleaner(dataframe):\n",
    "    dataframe.drop('Unnamed: 0', axis=1, inplace=True)\n",
    "    dataframe = dataframe.sort_values('comments', ascending=False).drop_duplicates('post_id').sort_index()\n",
    "    dataframe['time'].replace({'just now':'.5 minutes ago'}, inplace=True)\n",
    "    dataframe['time'].replace({'1 minute ago':'1 minutes ago'}, inplace=True)\n",
    "    dataframe['time'].replace({'1 hour ago':'1 hours ago'}, inplace=True)\n",
    "    dataframe['time'].replace({'1 day ago':'1 days ago'}, inplace=True)\n",
    "    dataframe['time'].replace({'1 week ago':'1 weeks ago'}, inplace=True)\n",
    "    dataframe['time'].replace({'1 month ago':'1 months ago'}, inplace=True)\n",
    "    dataframe['time'].replace({'1 year ago':'1 years ago'}, inplace=True)\n",
    "    dataframe['time'] = dataframe['time'].map(lambda x: x.split(' ago')[0])\n",
    "    dataframe['time_units'] = dataframe['time'].map(lambda x: x.split(' ')[1])\n",
    "    dataframe['time'] = dataframe['time'].map(lambda x: x.split(' ')[0])\n",
    "    dataframe['time_units'].replace({'years':'525600'}, inplace=True)\n",
    "    dataframe['time_units'].replace({'months':'43804.8'}, inplace=True)\n",
    "    dataframe['time_units'].replace({'weeks':'10080'}, inplace=True)\n",
    "    dataframe['time_units'].replace({'days':'1440'}, inplace=True)\n",
    "    dataframe['time_units'].replace({'hours':'60'}, inplace=True)\n",
    "    dataframe['time_units'].replace({'minutes':'1'}, inplace=True)\n",
    "    dataframe['time_units'] = dataframe['time_units'].astype(float)\n",
    "    dataframe['time'] = dataframe['time'].astype(float)\n",
    "    dataframe['time_minutes'] = dataframe['time'] * dataframe['time_units']\n",
    "    dataframe.drop(['time','time_units'], axis=1, inplace=True)\n",
    "    dataframe['comments_per_minute'] = dataframe['comments'] / dataframe['time_minutes']\n",
    "    dataframe['likes_per_minute'] = dataframe['score'] / dataframe['time_minutes']\n",
    "    dataframe['timestamps'] = pd.to_datetime(dataframe['timestamps'], unit='ms')\n",
    "    dataframe['timestamps'] = dataframe['timestamps'].dt.tz_localize('UTC').dt.tz_convert('US/Eastern')\n",
    "    dataframe['hour_posted'] = dataframe.timestamps.dt.hour\n",
    "    dataframe['hour_posted'] = [x - 5 if x >=5 else x + 19 for x in dataframe['hour_posted']]\n",
    "    dataframe = pd.concat([dataframe, pd.get_dummies(dataframe['hour_posted'], prefix=True, drop_first=True)], axis=1)\n",
    "    dataframe = pd.concat([dataframe, pd.get_dummies(dataframe['subreddits'], drop_first=True)], axis=1)\n",
    "    dataframe['hot?'] = 0\n",
    "    dataframe['above_median_comments?'] = [0 if x <= (np.median(dataframe.comments.values)) else 1 for x in dataframe['comments']]\n",
    "    dataframe['above_median_cpm?'] = [0 if x <= (np.median(dataframe.comments_per_minute.values)) else 1 for x in dataframe['comments_per_minute']]\n",
    "    dataframe = dataframe.reset_index()\n",
    "    dataframe.drop(['index'], axis=1, inplace=True)\n",
    "    \n",
    "    return dataframe"
   ]
  },
  {
   "cell_type": "code",
   "execution_count": 34,
   "metadata": {
    "collapsed": true
   },
   "outputs": [],
   "source": [
    "# clean the random scraper\n",
    "reddit_random = data_cleaner(reddit_random)"
   ]
  },
  {
   "cell_type": "code",
   "execution_count": 35,
   "metadata": {
    "collapsed": true
   },
   "outputs": [],
   "source": [
    "# combine the two cleaned dataframes\n",
    "reddit_combined = reddithot.append(reddit_random)"
   ]
  },
  {
   "cell_type": "code",
   "execution_count": 36,
   "metadata": {
    "collapsed": true
   },
   "outputs": [],
   "source": [
    "# remove duplicates (there were only a few)\n",
    "reddit_combined = reddit_combined.sort_values('comments', ascending=False).drop_duplicates('post_id').sort_index()"
   ]
  },
  {
   "cell_type": "code",
   "execution_count": 37,
   "metadata": {
    "collapsed": true
   },
   "outputs": [],
   "source": [
    "# reset the index\n",
    "reddit_combined = reddit_combined.reset_index()"
   ]
  },
  {
   "cell_type": "code",
   "execution_count": 38,
   "metadata": {
    "collapsed": true
   },
   "outputs": [],
   "source": [
    "reddit_combined.drop(['index'], axis=1, inplace=True)"
   ]
  },
  {
   "cell_type": "code",
   "execution_count": 39,
   "metadata": {
    "collapsed": true
   },
   "outputs": [],
   "source": [
    "reddit_combined = reddit_combined.fillna(0)"
   ]
  },
  {
   "cell_type": "markdown",
   "metadata": {},
   "source": [
    "Histograms of different words \n",
    "Bar charts of different words\n",
    "Distributions of other data points\n",
    "Extract the feature importances of random forest - bar chart of which subreddits contain which feature "
   ]
  },
  {
   "cell_type": "markdown",
   "metadata": {},
   "source": [
    "# Lemmatization\n",
    "\n",
    "### I decided to go with lemmatization rather than stemming after examining the results of both\n",
    "### Some methods adapted from https://stackoverflow.com/questions/43795310/apply-porters-stemmer-to-a-pandas-column-for-each-word"
   ]
  },
  {
   "cell_type": "code",
   "execution_count": 40,
   "metadata": {
    "collapsed": true
   },
   "outputs": [],
   "source": [
    "# instantiate tokenizer\n",
    "tokenizer = RegexpTokenizer(r'\\w+')"
   ]
  },
  {
   "cell_type": "code",
   "execution_count": 41,
   "metadata": {
    "collapsed": true
   },
   "outputs": [],
   "source": [
    "# decided to use lemmatization rather than stemming\n",
    "# p_stemmer = PorterStemmer()"
   ]
  },
  {
   "cell_type": "code",
   "execution_count": 42,
   "metadata": {
    "collapsed": true
   },
   "outputs": [],
   "source": [
    "# instantiate lemmatizer\n",
    "lemmatizer = WordNetLemmatizer()"
   ]
  },
  {
   "cell_type": "code",
   "execution_count": 43,
   "metadata": {
    "collapsed": true
   },
   "outputs": [],
   "source": [
    "# make all strings lowercase and tokenize each title\n",
    "reddithot['tokenized'] = reddithot['title'].str.lower().map(lambda x: tokenizer.tokenize(x))"
   ]
  },
  {
   "cell_type": "code",
   "execution_count": 44,
   "metadata": {
    "collapsed": true
   },
   "outputs": [],
   "source": [
    "# decided to use lemmatization rather than stemming\n",
    "# reddithot['stemmed'] = reddithot['tokenized'].apply(lambda x : [p_stemmer.stem(y) for y in x])"
   ]
  },
  {
   "cell_type": "code",
   "execution_count": 45,
   "metadata": {
    "collapsed": true
   },
   "outputs": [],
   "source": [
    "# lemmatize each title\n",
    "reddithot['lemmatized'] = reddithot['tokenized'].apply(lambda x : [lemmatizer.lemmatize(y) for y in x])"
   ]
  },
  {
   "cell_type": "code",
   "execution_count": 46,
   "metadata": {
    "collapsed": true
   },
   "outputs": [],
   "source": [
    "# turn the lemmatized titles back into sentence form for analysis\n",
    "reddithot['lemmatized_title'] = reddithot['lemmatized'].apply(lambda x : \" \".join(x))"
   ]
  },
  {
   "cell_type": "code",
   "execution_count": 47,
   "metadata": {
    "collapsed": true
   },
   "outputs": [],
   "source": [
    "# same thing for the combined dataframe\n",
    "def lemmatize(dataframe):\n",
    "    dataframe['tokenized'] = dataframe['title'].str.lower().map(lambda x: tokenizer.tokenize(x))\n",
    "    dataframe['lemmatized'] = dataframe['tokenized'].apply(lambda x : [lemmatizer.lemmatize(y) for y in x])\n",
    "    dataframe['lemmatized_title'] = dataframe['lemmatized'].apply(lambda x : \" \".join(x))\n",
    "    \n",
    "    return dataframe\n",
    "\n",
    "reddit_combined = lemmatize(reddit_combined)"
   ]
  },
  {
   "cell_type": "code",
   "execution_count": 48,
   "metadata": {
    "collapsed": true
   },
   "outputs": [],
   "source": [
    "# lemmatized_title"
   ]
  },
  {
   "cell_type": "markdown",
   "metadata": {},
   "source": [
    "# Count Vectorizer for 'hot' threads"
   ]
  },
  {
   "cell_type": "code",
   "execution_count": 49,
   "metadata": {
    "collapsed": true
   },
   "outputs": [],
   "source": [
    "y = reddithot['above_median_cpm?']\n",
    "X = reddithot.drop(['comments', 'post_id', 'subreddits', 'timestamps', 'title', 'time_minutes',\n",
    "                   'comments_per_minute', 'likes_per_minute', 'above_median_cpm?', 'above_median_comments?', 'tokenized', \n",
    "                   'lemmatized', 'hour_posted', 'hot?', 'score'], axis=1)"
   ]
  },
  {
   "cell_type": "code",
   "execution_count": 50,
   "metadata": {
    "collapsed": true
   },
   "outputs": [],
   "source": [
    "y = reddithot['above_median_comments?']\n",
    "X = reddithot.drop(['comments', 'post_id', 'subreddits', 'timestamps', 'title', 'time_minutes',\n",
    "                   'comments_per_minute', 'likes_per_minute', 'above_median_comments?', 'above_median_cpm?', 'tokenized', \n",
    "                   'lemmatized', 'hour_posted', 'hot?'], axis=1)"
   ]
  },
  {
   "cell_type": "code",
   "execution_count": 51,
   "metadata": {
    "collapsed": true
   },
   "outputs": [],
   "source": [
    "X_train, X_test, y_train, y_test = train_test_split(X,y, test_size=.35)"
   ]
  },
  {
   "cell_type": "code",
   "execution_count": 52,
   "metadata": {
    "collapsed": true
   },
   "outputs": [],
   "source": [
    "\n",
    "count = CountVectorizer(stop_words='english', max_features=1000, ngram_range=(1, 2))"
   ]
  },
  {
   "cell_type": "code",
   "execution_count": 53,
   "metadata": {
    "collapsed": true
   },
   "outputs": [],
   "source": [
    "X_train_matrix = count.fit_transform(X_train['lemmatized_title'])"
   ]
  },
  {
   "cell_type": "code",
   "execution_count": 54,
   "metadata": {
    "collapsed": true
   },
   "outputs": [],
   "source": [
    "X_test_matrix = count.transform(X_test['lemmatized_title'])"
   ]
  },
  {
   "cell_type": "code",
   "execution_count": 55,
   "metadata": {
    "collapsed": true
   },
   "outputs": [],
   "source": [
    "X_train_df = pd.DataFrame(X_train_matrix.todense(),\n",
    "                     columns=count.get_feature_names(),\n",
    "                         index=X_train.index)"
   ]
  },
  {
   "cell_type": "code",
   "execution_count": 56,
   "metadata": {
    "collapsed": true
   },
   "outputs": [],
   "source": [
    "X_test_df = pd.DataFrame(X_test_matrix.todense(),\n",
    "                     columns=count.get_feature_names(),\n",
    "                        index=X_test.index)"
   ]
  },
  {
   "cell_type": "code",
   "execution_count": 57,
   "metadata": {
    "collapsed": true
   },
   "outputs": [],
   "source": [
    "X_train = X_train.drop('lemmatized_title', axis=1)\n",
    "\n",
    "X_test = X_test.drop('lemmatized_title', axis=1)            "
   ]
  },
  {
   "cell_type": "code",
   "execution_count": 58,
   "metadata": {
    "collapsed": true
   },
   "outputs": [],
   "source": [
    "X_train = pd.concat([X_train, X_train_df], axis=1)\n",
    "\n",
    "X_test  = pd.concat([X_test, X_test_df], axis=1)"
   ]
  },
  {
   "cell_type": "code",
   "execution_count": 59,
   "metadata": {},
   "outputs": [
    {
     "data": {
      "text/plain": [
       "1000"
      ]
     },
     "execution_count": 59,
     "metadata": {},
     "output_type": "execute_result"
    }
   ],
   "source": [
    "len(count.vocabulary_)"
   ]
  },
  {
   "cell_type": "code",
   "execution_count": 60,
   "metadata": {},
   "outputs": [
    {
     "ename": "NameError",
     "evalue": "name 'X_matrix' is not defined",
     "output_type": "error",
     "traceback": [
      "\u001b[0;31m---------------------------------------------------------------------------\u001b[0m",
      "\u001b[0;31mNameError\u001b[0m                                 Traceback (most recent call last)",
      "\u001b[0;32m<ipython-input-60-b0b799913d6b>\u001b[0m in \u001b[0;36m<module>\u001b[0;34m()\u001b[0m\n\u001b[0;32m----> 1\u001b[0;31m \u001b[0mfreqs\u001b[0m \u001b[0;34m=\u001b[0m \u001b[0;34m[\u001b[0m\u001b[0;34m(\u001b[0m\u001b[0mword\u001b[0m\u001b[0;34m,\u001b[0m \u001b[0mX_matrix\u001b[0m\u001b[0;34m.\u001b[0m\u001b[0mgetcol\u001b[0m\u001b[0;34m(\u001b[0m\u001b[0midx\u001b[0m\u001b[0;34m)\u001b[0m\u001b[0;34m.\u001b[0m\u001b[0msum\u001b[0m\u001b[0;34m(\u001b[0m\u001b[0;34m)\u001b[0m\u001b[0;34m)\u001b[0m \u001b[0;32mfor\u001b[0m \u001b[0mword\u001b[0m\u001b[0;34m,\u001b[0m \u001b[0midx\u001b[0m \u001b[0;32min\u001b[0m \u001b[0mcount\u001b[0m\u001b[0;34m.\u001b[0m\u001b[0mvocabulary_\u001b[0m\u001b[0;34m.\u001b[0m\u001b[0mitems\u001b[0m\u001b[0;34m(\u001b[0m\u001b[0;34m)\u001b[0m\u001b[0;34m]\u001b[0m\u001b[0;34m\u001b[0m\u001b[0m\n\u001b[0m\u001b[1;32m      2\u001b[0m \u001b[0;31m#sort from largest to smallest\u001b[0m\u001b[0;34m\u001b[0m\u001b[0;34m\u001b[0m\u001b[0m\n\u001b[1;32m      3\u001b[0m \u001b[0mprint\u001b[0m\u001b[0;34m(\u001b[0m\u001b[0msorted\u001b[0m\u001b[0;34m(\u001b[0m\u001b[0mfreqs\u001b[0m\u001b[0;34m,\u001b[0m \u001b[0mkey\u001b[0m \u001b[0;34m=\u001b[0m \u001b[0;32mlambda\u001b[0m \u001b[0mx\u001b[0m\u001b[0;34m:\u001b[0m \u001b[0;34m-\u001b[0m\u001b[0mx\u001b[0m\u001b[0;34m[\u001b[0m\u001b[0;36m1\u001b[0m\u001b[0;34m]\u001b[0m\u001b[0;34m)\u001b[0m\u001b[0;34m)\u001b[0m\u001b[0;34m\u001b[0m\u001b[0m\n",
      "\u001b[0;32m<ipython-input-60-b0b799913d6b>\u001b[0m in \u001b[0;36m<listcomp>\u001b[0;34m(.0)\u001b[0m\n\u001b[0;32m----> 1\u001b[0;31m \u001b[0mfreqs\u001b[0m \u001b[0;34m=\u001b[0m \u001b[0;34m[\u001b[0m\u001b[0;34m(\u001b[0m\u001b[0mword\u001b[0m\u001b[0;34m,\u001b[0m \u001b[0mX_matrix\u001b[0m\u001b[0;34m.\u001b[0m\u001b[0mgetcol\u001b[0m\u001b[0;34m(\u001b[0m\u001b[0midx\u001b[0m\u001b[0;34m)\u001b[0m\u001b[0;34m.\u001b[0m\u001b[0msum\u001b[0m\u001b[0;34m(\u001b[0m\u001b[0;34m)\u001b[0m\u001b[0;34m)\u001b[0m \u001b[0;32mfor\u001b[0m \u001b[0mword\u001b[0m\u001b[0;34m,\u001b[0m \u001b[0midx\u001b[0m \u001b[0;32min\u001b[0m \u001b[0mcount\u001b[0m\u001b[0;34m.\u001b[0m\u001b[0mvocabulary_\u001b[0m\u001b[0;34m.\u001b[0m\u001b[0mitems\u001b[0m\u001b[0;34m(\u001b[0m\u001b[0;34m)\u001b[0m\u001b[0;34m]\u001b[0m\u001b[0;34m\u001b[0m\u001b[0m\n\u001b[0m\u001b[1;32m      2\u001b[0m \u001b[0;31m#sort from largest to smallest\u001b[0m\u001b[0;34m\u001b[0m\u001b[0;34m\u001b[0m\u001b[0m\n\u001b[1;32m      3\u001b[0m \u001b[0mprint\u001b[0m\u001b[0;34m(\u001b[0m\u001b[0msorted\u001b[0m\u001b[0;34m(\u001b[0m\u001b[0mfreqs\u001b[0m\u001b[0;34m,\u001b[0m \u001b[0mkey\u001b[0m \u001b[0;34m=\u001b[0m \u001b[0;32mlambda\u001b[0m \u001b[0mx\u001b[0m\u001b[0;34m:\u001b[0m \u001b[0;34m-\u001b[0m\u001b[0mx\u001b[0m\u001b[0;34m[\u001b[0m\u001b[0;36m1\u001b[0m\u001b[0;34m]\u001b[0m\u001b[0;34m)\u001b[0m\u001b[0;34m)\u001b[0m\u001b[0;34m\u001b[0m\u001b[0m\n",
      "\u001b[0;31mNameError\u001b[0m: name 'X_matrix' is not defined"
     ]
    }
   ],
   "source": [
    "freqs = [(word, X_matrix.getcol(idx).sum()) for word, idx in count.vocabulary_.items()]\n",
    "#sort from largest to smallest\n",
    "print(sorted(freqs, key = lambda x: -x[1]))"
   ]
  },
  {
   "cell_type": "code",
   "execution_count": null,
   "metadata": {},
   "outputs": [],
   "source": [
    "zip(count.get_feature_names(),\n",
    "    np.asarray(X_train.sum(axis=0)).ravel())"
   ]
  },
  {
   "cell_type": "markdown",
   "metadata": {
    "collapsed": true,
    "focus": false,
    "id": "c20d2498-151c-44c3-a453-3a333c79a0ac"
   },
   "source": [
    "# TFIDF Vectorizer for 'hot' threads"
   ]
  },
  {
   "cell_type": "code",
   "execution_count": 61,
   "metadata": {
    "collapsed": true
   },
   "outputs": [],
   "source": [
    "y = reddithot['above_median_cpm?']\n",
    "X = reddithot.drop(['comments', 'post_id', 'subreddits', 'timestamps', 'title', 'time_minutes',\n",
    "                   'comments_per_minute', 'likes_per_minute', 'above_median_cpm?', 'above_median_comments?', 'tokenized', \n",
    "                   'lemmatized', 'hour_posted', 'hot?', 'score'], axis=1)"
   ]
  },
  {
   "cell_type": "code",
   "execution_count": 62,
   "metadata": {
    "collapsed": true
   },
   "outputs": [],
   "source": [
    "y = reddithot['above_median_comments?']\n",
    "X = reddithot.drop(['comments', 'post_id', 'subreddits', 'timestamps', 'title', 'time_minutes',\n",
    "                   'comments_per_minute', 'likes_per_minute', 'above_median_comments?', 'above_median_cpm?', 'tokenized', \n",
    "                   'lemmatized', 'hour_posted', 'hot?', 'score'], axis=1)"
   ]
  },
  {
   "cell_type": "code",
   "execution_count": 63,
   "metadata": {
    "collapsed": true
   },
   "outputs": [],
   "source": [
    "X_train, X_test, y_train, y_test = train_test_split(X,y, test_size=.35)"
   ]
  },
  {
   "cell_type": "code",
   "execution_count": 64,
   "metadata": {
    "collapsed": true
   },
   "outputs": [],
   "source": [
    "# instantiate TFIDF Vectorizer\n",
    "tfidf = TfidfVectorizer(stop_words='english', max_features=1000, ngram_range=(1, 2))"
   ]
  },
  {
   "cell_type": "code",
   "execution_count": 65,
   "metadata": {
    "collapsed": true
   },
   "outputs": [],
   "source": [
    "X_train_matrix = tfidf.fit_transform(X_train['lemmatized_title'])"
   ]
  },
  {
   "cell_type": "code",
   "execution_count": 66,
   "metadata": {
    "collapsed": true
   },
   "outputs": [],
   "source": [
    "X_test_matrix = tfidf.transform(X_test['lemmatized_title'])"
   ]
  },
  {
   "cell_type": "code",
   "execution_count": 67,
   "metadata": {
    "collapsed": true
   },
   "outputs": [],
   "source": [
    "X_train_df = pd.DataFrame(X_train_matrix.todense(),\n",
    "                     columns=tfidf.get_feature_names(),\n",
    "                         index=X_train.index)"
   ]
  },
  {
   "cell_type": "code",
   "execution_count": 68,
   "metadata": {
    "collapsed": true
   },
   "outputs": [],
   "source": [
    "X_test_df = pd.DataFrame(X_test_matrix.todense(),\n",
    "                     columns=tfidf.get_feature_names(),\n",
    "                        index=X_test.index)"
   ]
  },
  {
   "cell_type": "code",
   "execution_count": 69,
   "metadata": {
    "collapsed": true
   },
   "outputs": [],
   "source": [
    "X_train = X_train.drop('lemmatized_title', axis=1)\n",
    "\n",
    "X_test = X_test.drop('lemmatized_title', axis=1)            "
   ]
  },
  {
   "cell_type": "code",
   "execution_count": 70,
   "metadata": {
    "collapsed": true
   },
   "outputs": [],
   "source": [
    "X_train = pd.concat([X_train, X_train_df], axis=1)\n",
    "\n",
    "X_test  = pd.concat([X_test, X_test_df], axis=1)"
   ]
  },
  {
   "cell_type": "markdown",
   "metadata": {
    "focus": false,
    "id": "4fb29de2-5b98-474c-a4ad-5170b72b9aea"
   },
   "source": [
    "# Random Forest Model for 'hot' threads"
   ]
  },
  {
   "cell_type": "code",
   "execution_count": 71,
   "metadata": {
    "collapsed": true,
    "focus": false,
    "id": "ddbc6159-6854-4ca7-857f-bfecdaf6d9c2"
   },
   "outputs": [],
   "source": [
    "forest = RandomForestClassifier(max_depth=30, n_estimators=5)"
   ]
  },
  {
   "cell_type": "code",
   "execution_count": 72,
   "metadata": {},
   "outputs": [
    {
     "data": {
      "text/plain": [
       "RandomForestClassifier(bootstrap=True, class_weight=None, criterion='gini',\n",
       "            max_depth=30, max_features='auto', max_leaf_nodes=None,\n",
       "            min_impurity_decrease=0.0, min_impurity_split=None,\n",
       "            min_samples_leaf=1, min_samples_split=2,\n",
       "            min_weight_fraction_leaf=0.0, n_estimators=5, n_jobs=1,\n",
       "            oob_score=False, random_state=None, verbose=0,\n",
       "            warm_start=False)"
      ]
     },
     "execution_count": 72,
     "metadata": {},
     "output_type": "execute_result"
    }
   ],
   "source": [
    "forest.fit(X_train, y_train)"
   ]
  },
  {
   "cell_type": "code",
   "execution_count": 73,
   "metadata": {},
   "outputs": [
    {
     "data": {
      "text/plain": [
       "0.74157868275515337"
      ]
     },
     "execution_count": 73,
     "metadata": {},
     "output_type": "execute_result"
    }
   ],
   "source": [
    "forest.score(X_train, y_train)"
   ]
  },
  {
   "cell_type": "code",
   "execution_count": 74,
   "metadata": {},
   "outputs": [
    {
     "data": {
      "text/plain": [
       "array([1, 0, 0, ..., 1, 0, 0])"
      ]
     },
     "execution_count": 74,
     "metadata": {},
     "output_type": "execute_result"
    }
   ],
   "source": [
    "forest.predict(X_test)"
   ]
  },
  {
   "cell_type": "code",
   "execution_count": 75,
   "metadata": {},
   "outputs": [
    {
     "data": {
      "text/plain": [
       "0.61904761904761907"
      ]
     },
     "execution_count": 75,
     "metadata": {},
     "output_type": "execute_result"
    }
   ],
   "source": [
    "forest.score(X_test, y_test)"
   ]
  },
  {
   "cell_type": "code",
   "execution_count": 76,
   "metadata": {
    "collapsed": true
   },
   "outputs": [],
   "source": [
    "fi = list(forest.feature_importances_) \n",
    "cl = list(X_test.columns)\n",
    "\n",
    "df7 = pd.DataFrame({'score':fi, \n",
    "                           'name':cl})"
   ]
  },
  {
   "cell_type": "code",
   "execution_count": 77,
   "metadata": {
    "collapsed": true
   },
   "outputs": [
    {
     "data": {
      "text/html": [
       "<div>\n",
       "<style>\n",
       "    .dataframe thead tr:only-child th {\n",
       "        text-align: right;\n",
       "    }\n",
       "\n",
       "    .dataframe thead th {\n",
       "        text-align: left;\n",
       "    }\n",
       "\n",
       "    .dataframe tbody tr th {\n",
       "        vertical-align: top;\n",
       "    }\n",
       "</style>\n",
       "<table border=\"1\" class=\"dataframe\">\n",
       "  <thead>\n",
       "    <tr style=\"text-align: right;\">\n",
       "      <th></th>\n",
       "      <th>name</th>\n",
       "      <th>score</th>\n",
       "    </tr>\n",
       "  </thead>\n",
       "  <tbody>\n",
       "    <tr>\n",
       "      <th>10</th>\n",
       "      <td>True_10</td>\n",
       "      <td>0.037482</td>\n",
       "    </tr>\n",
       "    <tr>\n",
       "      <th>4</th>\n",
       "      <td>True_4</td>\n",
       "      <td>0.034932</td>\n",
       "    </tr>\n",
       "    <tr>\n",
       "      <th>12</th>\n",
       "      <td>True_12</td>\n",
       "      <td>0.030285</td>\n",
       "    </tr>\n",
       "    <tr>\n",
       "      <th>0</th>\n",
       "      <td>crossposts</td>\n",
       "      <td>0.029183</td>\n",
       "    </tr>\n",
       "    <tr>\n",
       "      <th>9</th>\n",
       "      <td>True_9</td>\n",
       "      <td>0.025459</td>\n",
       "    </tr>\n",
       "    <tr>\n",
       "      <th>11</th>\n",
       "      <td>True_11</td>\n",
       "      <td>0.022031</td>\n",
       "    </tr>\n",
       "    <tr>\n",
       "      <th>1457</th>\n",
       "      <td>r/news</td>\n",
       "      <td>0.020247</td>\n",
       "    </tr>\n",
       "    <tr>\n",
       "      <th>3</th>\n",
       "      <td>True_3</td>\n",
       "      <td>0.016293</td>\n",
       "    </tr>\n",
       "    <tr>\n",
       "      <th>16</th>\n",
       "      <td>True_16</td>\n",
       "      <td>0.015885</td>\n",
       "    </tr>\n",
       "    <tr>\n",
       "      <th>5</th>\n",
       "      <td>True_5</td>\n",
       "      <td>0.014736</td>\n",
       "    </tr>\n",
       "    <tr>\n",
       "      <th>91</th>\n",
       "      <td>r/AskReddit</td>\n",
       "      <td>0.013993</td>\n",
       "    </tr>\n",
       "    <tr>\n",
       "      <th>8</th>\n",
       "      <td>True_8</td>\n",
       "      <td>0.012614</td>\n",
       "    </tr>\n",
       "    <tr>\n",
       "      <th>14</th>\n",
       "      <td>True_14</td>\n",
       "      <td>0.012527</td>\n",
       "    </tr>\n",
       "    <tr>\n",
       "      <th>7</th>\n",
       "      <td>True_7</td>\n",
       "      <td>0.012064</td>\n",
       "    </tr>\n",
       "    <tr>\n",
       "      <th>338</th>\n",
       "      <td>r/FortNiteBR</td>\n",
       "      <td>0.010221</td>\n",
       "    </tr>\n",
       "    <tr>\n",
       "      <th>2755</th>\n",
       "      <td>wa</td>\n",
       "      <td>0.009647</td>\n",
       "    </tr>\n",
       "    <tr>\n",
       "      <th>1194</th>\n",
       "      <td>r/funny</td>\n",
       "      <td>0.009226</td>\n",
       "    </tr>\n",
       "    <tr>\n",
       "      <th>2</th>\n",
       "      <td>True_2</td>\n",
       "      <td>0.008891</td>\n",
       "    </tr>\n",
       "    <tr>\n",
       "      <th>2635</th>\n",
       "      <td>snow</td>\n",
       "      <td>0.008765</td>\n",
       "    </tr>\n",
       "    <tr>\n",
       "      <th>1794</th>\n",
       "      <td>r/worldnews</td>\n",
       "      <td>0.008541</td>\n",
       "    </tr>\n",
       "    <tr>\n",
       "      <th>2149</th>\n",
       "      <td>friend</td>\n",
       "      <td>0.008252</td>\n",
       "    </tr>\n",
       "    <tr>\n",
       "      <th>2039</th>\n",
       "      <td>day</td>\n",
       "      <td>0.008215</td>\n",
       "    </tr>\n",
       "    <tr>\n",
       "      <th>1143</th>\n",
       "      <td>r/europe</td>\n",
       "      <td>0.007234</td>\n",
       "    </tr>\n",
       "    <tr>\n",
       "      <th>1901</th>\n",
       "      <td>ban</td>\n",
       "      <td>0.007144</td>\n",
       "    </tr>\n",
       "    <tr>\n",
       "      <th>145</th>\n",
       "      <td>r/Bossfight</td>\n",
       "      <td>0.006314</td>\n",
       "    </tr>\n",
       "    <tr>\n",
       "      <th>563</th>\n",
       "      <td>r/MonsterHunter</td>\n",
       "      <td>0.006255</td>\n",
       "    </tr>\n",
       "    <tr>\n",
       "      <th>1970</th>\n",
       "      <td>cat</td>\n",
       "      <td>0.006168</td>\n",
       "    </tr>\n",
       "    <tr>\n",
       "      <th>1082</th>\n",
       "      <td>r/cursedimages</td>\n",
       "      <td>0.005969</td>\n",
       "    </tr>\n",
       "    <tr>\n",
       "      <th>2712</th>\n",
       "      <td>today</td>\n",
       "      <td>0.005505</td>\n",
       "    </tr>\n",
       "    <tr>\n",
       "      <th>2269</th>\n",
       "      <td>just</td>\n",
       "      <td>0.005231</td>\n",
       "    </tr>\n",
       "    <tr>\n",
       "      <th>...</th>\n",
       "      <td>...</td>\n",
       "      <td>...</td>\n",
       "    </tr>\n",
       "    <tr>\n",
       "      <th>1199</th>\n",
       "      <td>r/gallifrey</td>\n",
       "      <td>0.000000</td>\n",
       "    </tr>\n",
       "    <tr>\n",
       "      <th>1200</th>\n",
       "      <td>r/gamecollecting</td>\n",
       "      <td>0.000000</td>\n",
       "    </tr>\n",
       "    <tr>\n",
       "      <th>1201</th>\n",
       "      <td>r/gamedev</td>\n",
       "      <td>0.000000</td>\n",
       "    </tr>\n",
       "    <tr>\n",
       "      <th>1202</th>\n",
       "      <td>r/gamegrumps</td>\n",
       "      <td>0.000000</td>\n",
       "    </tr>\n",
       "    <tr>\n",
       "      <th>1203</th>\n",
       "      <td>r/gameofthrones</td>\n",
       "      <td>0.000000</td>\n",
       "    </tr>\n",
       "    <tr>\n",
       "      <th>1204</th>\n",
       "      <td>r/gamernews</td>\n",
       "      <td>0.000000</td>\n",
       "    </tr>\n",
       "    <tr>\n",
       "      <th>1205</th>\n",
       "      <td>r/gamindustri</td>\n",
       "      <td>0.000000</td>\n",
       "    </tr>\n",
       "    <tr>\n",
       "      <th>317</th>\n",
       "      <td>r/FantasyPL</td>\n",
       "      <td>0.000000</td>\n",
       "    </tr>\n",
       "    <tr>\n",
       "      <th>1207</th>\n",
       "      <td>r/gangstaswithwaifus</td>\n",
       "      <td>0.000000</td>\n",
       "    </tr>\n",
       "    <tr>\n",
       "      <th>1208</th>\n",
       "      <td>r/gardening</td>\n",
       "      <td>0.000000</td>\n",
       "    </tr>\n",
       "    <tr>\n",
       "      <th>1209</th>\n",
       "      <td>r/garlicoin</td>\n",
       "      <td>0.000000</td>\n",
       "    </tr>\n",
       "    <tr>\n",
       "      <th>319</th>\n",
       "      <td>r/FellowKids</td>\n",
       "      <td>0.000000</td>\n",
       "    </tr>\n",
       "    <tr>\n",
       "      <th>1193</th>\n",
       "      <td>r/funkopop</td>\n",
       "      <td>0.000000</td>\n",
       "    </tr>\n",
       "    <tr>\n",
       "      <th>1192</th>\n",
       "      <td>r/funhaus</td>\n",
       "      <td>0.000000</td>\n",
       "    </tr>\n",
       "    <tr>\n",
       "      <th>1183</th>\n",
       "      <td>r/fountainpens</td>\n",
       "      <td>0.000000</td>\n",
       "    </tr>\n",
       "    <tr>\n",
       "      <th>1177</th>\n",
       "      <td>r/foodhacks</td>\n",
       "      <td>0.000000</td>\n",
       "    </tr>\n",
       "    <tr>\n",
       "      <th>1178</th>\n",
       "      <td>r/forbiddensnacks</td>\n",
       "      <td>0.000000</td>\n",
       "    </tr>\n",
       "    <tr>\n",
       "      <th>1179</th>\n",
       "      <td>r/forhonor</td>\n",
       "      <td>0.000000</td>\n",
       "    </tr>\n",
       "    <tr>\n",
       "      <th>321</th>\n",
       "      <td>r/FiftyFifty</td>\n",
       "      <td>0.000000</td>\n",
       "    </tr>\n",
       "    <tr>\n",
       "      <th>1181</th>\n",
       "      <td>r/forsen</td>\n",
       "      <td>0.000000</td>\n",
       "    </tr>\n",
       "    <tr>\n",
       "      <th>1182</th>\n",
       "      <td>r/forwardsfromgrandma</td>\n",
       "      <td>0.000000</td>\n",
       "    </tr>\n",
       "    <tr>\n",
       "      <th>1184</th>\n",
       "      <td>r/foxes</td>\n",
       "      <td>0.000000</td>\n",
       "    </tr>\n",
       "    <tr>\n",
       "      <th>1191</th>\n",
       "      <td>r/fullmoviesongoogle</td>\n",
       "      <td>0.000000</td>\n",
       "    </tr>\n",
       "    <tr>\n",
       "      <th>1185</th>\n",
       "      <td>r/france</td>\n",
       "      <td>0.000000</td>\n",
       "    </tr>\n",
       "    <tr>\n",
       "      <th>1186</th>\n",
       "      <td>r/freebies</td>\n",
       "      <td>0.000000</td>\n",
       "    </tr>\n",
       "    <tr>\n",
       "      <th>320</th>\n",
       "      <td>r/Feminism</td>\n",
       "      <td>0.000000</td>\n",
       "    </tr>\n",
       "    <tr>\n",
       "      <th>1188</th>\n",
       "      <td>r/frugalmalefashion</td>\n",
       "      <td>0.000000</td>\n",
       "    </tr>\n",
       "    <tr>\n",
       "      <th>1189</th>\n",
       "      <td>r/ftlgame</td>\n",
       "      <td>0.000000</td>\n",
       "    </tr>\n",
       "    <tr>\n",
       "      <th>1190</th>\n",
       "      <td>r/fuckingmanly</td>\n",
       "      <td>0.000000</td>\n",
       "    </tr>\n",
       "    <tr>\n",
       "      <th>1408</th>\n",
       "      <td>r/maybemaybemaybe</td>\n",
       "      <td>0.000000</td>\n",
       "    </tr>\n",
       "  </tbody>\n",
       "</table>\n",
       "<p>2817 rows × 2 columns</p>\n",
       "</div>"
      ],
      "text/plain": [
       "                       name     score\n",
       "10                  True_10  0.037482\n",
       "4                    True_4  0.034932\n",
       "12                  True_12  0.030285\n",
       "0                crossposts  0.029183\n",
       "9                    True_9  0.025459\n",
       "11                  True_11  0.022031\n",
       "1457                 r/news  0.020247\n",
       "3                    True_3  0.016293\n",
       "16                  True_16  0.015885\n",
       "5                    True_5  0.014736\n",
       "91              r/AskReddit  0.013993\n",
       "8                    True_8  0.012614\n",
       "14                  True_14  0.012527\n",
       "7                    True_7  0.012064\n",
       "338            r/FortNiteBR  0.010221\n",
       "2755                     wa  0.009647\n",
       "1194                r/funny  0.009226\n",
       "2                    True_2  0.008891\n",
       "2635                   snow  0.008765\n",
       "1794            r/worldnews  0.008541\n",
       "2149                 friend  0.008252\n",
       "2039                    day  0.008215\n",
       "1143               r/europe  0.007234\n",
       "1901                    ban  0.007144\n",
       "145             r/Bossfight  0.006314\n",
       "563         r/MonsterHunter  0.006255\n",
       "1970                    cat  0.006168\n",
       "1082         r/cursedimages  0.005969\n",
       "2712                  today  0.005505\n",
       "2269                   just  0.005231\n",
       "...                     ...       ...\n",
       "1199            r/gallifrey  0.000000\n",
       "1200       r/gamecollecting  0.000000\n",
       "1201              r/gamedev  0.000000\n",
       "1202           r/gamegrumps  0.000000\n",
       "1203        r/gameofthrones  0.000000\n",
       "1204            r/gamernews  0.000000\n",
       "1205          r/gamindustri  0.000000\n",
       "317             r/FantasyPL  0.000000\n",
       "1207   r/gangstaswithwaifus  0.000000\n",
       "1208            r/gardening  0.000000\n",
       "1209            r/garlicoin  0.000000\n",
       "319            r/FellowKids  0.000000\n",
       "1193             r/funkopop  0.000000\n",
       "1192              r/funhaus  0.000000\n",
       "1183         r/fountainpens  0.000000\n",
       "1177            r/foodhacks  0.000000\n",
       "1178      r/forbiddensnacks  0.000000\n",
       "1179             r/forhonor  0.000000\n",
       "321            r/FiftyFifty  0.000000\n",
       "1181               r/forsen  0.000000\n",
       "1182  r/forwardsfromgrandma  0.000000\n",
       "1184                r/foxes  0.000000\n",
       "1191   r/fullmoviesongoogle  0.000000\n",
       "1185               r/france  0.000000\n",
       "1186             r/freebies  0.000000\n",
       "320              r/Feminism  0.000000\n",
       "1188    r/frugalmalefashion  0.000000\n",
       "1189              r/ftlgame  0.000000\n",
       "1190         r/fuckingmanly  0.000000\n",
       "1408      r/maybemaybemaybe  0.000000\n",
       "\n",
       "[2817 rows x 2 columns]"
      ]
     },
     "execution_count": 77,
     "metadata": {},
     "output_type": "execute_result"
    }
   ],
   "source": [
    "df7.sort_values('score', ascending=False)"
   ]
  },
  {
   "cell_type": "code",
   "execution_count": 78,
   "metadata": {
    "collapsed": true
   },
   "outputs": [
    {
     "data": {
      "text/plain": [
       "r/funny                    55\n",
       "r/aww                      45\n",
       "r/FortNiteBR               44\n",
       "r/PrequelMemes             43\n",
       "r/gaming                   43\n",
       "r/offlineTV                43\n",
       "r/DDLC                     43\n",
       "r/BlackPeopleTwitter       42\n",
       "r/FireEmblemHeroes         41\n",
       "r/pics                     40\n",
       "r/AskReddit                37\n",
       "r/rupaulsdragrace          36\n",
       "r/kingdomcome              36\n",
       "r/PewdiepieSubmissions     36\n",
       "r/memes                    36\n",
       "r/gifs                     35\n",
       "r/todayilearned            34\n",
       "r/worldnews                34\n",
       "r/MonsterHunter            33\n",
       "r/DeepFriedMemes           32\n",
       "r/CringeAnarchy            31\n",
       "r/CryptoCurrency           31\n",
       "r/mildlyinteresting        29\n",
       "r/news                     29\n",
       "r/tumblr                   29\n",
       "r/de                       28\n",
       "r/marvelstudios            28\n",
       "r/PoliticalHumor           28\n",
       "r/videos                   27\n",
       "r/europe                   26\n",
       "                           ..\n",
       "r/slowcooking               1\n",
       "r/vexillologycirclejerk     1\n",
       "r/custommagic               1\n",
       "r/rollercoasters            1\n",
       "r/islam                     1\n",
       "r/cincinnati                1\n",
       "r/Embroidery                1\n",
       "r/AnadeArmas                1\n",
       "r/SubredditSimMeta          1\n",
       "r/AntiJokes                 1\n",
       "r/mentalhealth              1\n",
       "r/rit                       1\n",
       "r/40kLore                   1\n",
       "r/Porsche                   1\n",
       "r/shittyreactiongifs        1\n",
       "r/devils                    1\n",
       "r/germany                   1\n",
       "r/WordAvalanches            1\n",
       "r/Wordpress                 1\n",
       "r/MINI                      1\n",
       "r/MURICA                    1\n",
       "r/Whatthefuckgetitoffme     1\n",
       "r/copypasta                 1\n",
       "r/shield                    1\n",
       "r/Astronomy                 1\n",
       "r/Emuwarflashbacks          1\n",
       "r/exchristian               1\n",
       "r/TokyoGhoul                1\n",
       "r/foodhacks                 1\n",
       "r/StonerEngineering         1\n",
       "Name: subreddits, Length: 1794, dtype: int64"
      ]
     },
     "execution_count": 78,
     "metadata": {},
     "output_type": "execute_result"
    }
   ],
   "source": [
    "reddithot.subreddits.value_counts()"
   ]
  },
  {
   "cell_type": "markdown",
   "metadata": {},
   "source": [
    "# Logistic Regression for Hot Threads"
   ]
  },
  {
   "cell_type": "code",
   "execution_count": 79,
   "metadata": {},
   "outputs": [],
   "source": [
    "logreg = LogisticRegression()"
   ]
  },
  {
   "cell_type": "code",
   "execution_count": 80,
   "metadata": {},
   "outputs": [
    {
     "data": {
      "text/plain": [
       "LogisticRegression(C=1.0, class_weight=None, dual=False, fit_intercept=True,\n",
       "          intercept_scaling=1, max_iter=100, multi_class='ovr', n_jobs=1,\n",
       "          penalty='l2', random_state=None, solver='liblinear', tol=0.0001,\n",
       "          verbose=0, warm_start=False)"
      ]
     },
     "execution_count": 80,
     "metadata": {},
     "output_type": "execute_result"
    }
   ],
   "source": [
    "logreg.fit(X_train, y_train)"
   ]
  },
  {
   "cell_type": "code",
   "execution_count": 81,
   "metadata": {},
   "outputs": [
    {
     "data": {
      "text/plain": [
       "0.83308195072900959"
      ]
     },
     "execution_count": 81,
     "metadata": {},
     "output_type": "execute_result"
    }
   ],
   "source": [
    "logreg.score(X_train, y_train)"
   ]
  },
  {
   "cell_type": "code",
   "execution_count": 82,
   "metadata": {},
   "outputs": [
    {
     "data": {
      "text/plain": [
       "0.67180205415499528"
      ]
     },
     "execution_count": 82,
     "metadata": {},
     "output_type": "execute_result"
    }
   ],
   "source": [
    "logreg.score(X_test, y_test)"
   ]
  },
  {
   "cell_type": "markdown",
   "metadata": {},
   "source": [
    "# TFIDF Vectorizer for combined dataframe"
   ]
  },
  {
   "cell_type": "code",
   "execution_count": 510,
   "metadata": {
    "collapsed": true
   },
   "outputs": [],
   "source": [
    "y = reddit_combined['hot?']\n",
    "X = reddit_combined.drop(['comments', 'post_id', 'subreddits', 'timestamps', 'title', 'time_minutes',\n",
    "                   'comments_per_minute', 'likes_per_minute', 'above_median_comments?', 'above_median_cpm?', 'tokenized', \n",
    "                   'lemmatized', 'hour_posted', 'hot?', 'score'], axis=1)"
   ]
  },
  {
   "cell_type": "code",
   "execution_count": 594,
   "metadata": {
    "collapsed": true
   },
   "outputs": [],
   "source": [
    "y = reddit_combined['hot?']\n",
    "X = pd.DataFrame(reddit_combined['lemmatized_title'])"
   ]
  },
  {
   "cell_type": "code",
   "execution_count": 595,
   "metadata": {
    "collapsed": true
   },
   "outputs": [],
   "source": [
    "X_train, X_test, y_train, y_test = train_test_split(X,y, test_size=.35)"
   ]
  },
  {
   "cell_type": "code",
   "execution_count": 596,
   "metadata": {
    "collapsed": true
   },
   "outputs": [],
   "source": [
    "\n",
    "tfidf = TfidfVectorizer(stop_words='english', max_features=1000, ngram_range=(1, 2))"
   ]
  },
  {
   "cell_type": "code",
   "execution_count": 597,
   "metadata": {
    "collapsed": true
   },
   "outputs": [],
   "source": [
    "X_train_matrix = tfidf.fit_transform(X_train['lemmatized_title'])"
   ]
  },
  {
   "cell_type": "code",
   "execution_count": 598,
   "metadata": {
    "collapsed": true
   },
   "outputs": [],
   "source": [
    "X_test_matrix = tfidf.transform(X_test['lemmatized_title'])"
   ]
  },
  {
   "cell_type": "code",
   "execution_count": 599,
   "metadata": {
    "collapsed": true
   },
   "outputs": [],
   "source": [
    "X_train_df = pd.DataFrame(X_train_matrix.todense(),\n",
    "                     columns=tfidf.get_feature_names(),\n",
    "                         index=X_train.index)"
   ]
  },
  {
   "cell_type": "code",
   "execution_count": 600,
   "metadata": {
    "collapsed": true
   },
   "outputs": [],
   "source": [
    "X_test_df = pd.DataFrame(X_test_matrix.todense(),\n",
    "                     columns=tfidf.get_feature_names(),\n",
    "                        index=X_test.index)"
   ]
  },
  {
   "cell_type": "code",
   "execution_count": 602,
   "metadata": {
    "collapsed": true
   },
   "outputs": [],
   "source": [
    "X_train = X_train.drop('lemmatized_title', axis=1)\n",
    "\n",
    "X_test = X_test.drop('lemmatized_title', axis=1)            "
   ]
  },
  {
   "cell_type": "code",
   "execution_count": 601,
   "metadata": {
    "collapsed": true
   },
   "outputs": [],
   "source": [
    "X_train = pd.concat([X_train, X_train_df], axis=1)\n",
    "\n",
    "X_test  = pd.concat([X_test, X_test_df], axis=1)"
   ]
  },
  {
   "cell_type": "markdown",
   "metadata": {
    "focus": false,
    "id": "4fb29de2-5b98-474c-a4ad-5170b72b9aea"
   },
   "source": [
    "# Random Forest Model for combined dataframe"
   ]
  },
  {
   "cell_type": "code",
   "execution_count": 603,
   "metadata": {
    "collapsed": true,
    "focus": false,
    "id": "ddbc6159-6854-4ca7-857f-bfecdaf6d9c2"
   },
   "outputs": [],
   "source": [
    "forest = RandomForestClassifier(max_depth=20, n_estimators=10)"
   ]
  },
  {
   "cell_type": "code",
   "execution_count": 604,
   "metadata": {
    "scrolled": true
   },
   "outputs": [
    {
     "data": {
      "text/plain": [
       "RandomForestClassifier(bootstrap=True, class_weight=None, criterion='gini',\n",
       "            max_depth=20, max_features='auto', max_leaf_nodes=None,\n",
       "            min_impurity_decrease=0.0, min_impurity_split=None,\n",
       "            min_samples_leaf=1, min_samples_split=2,\n",
       "            min_weight_fraction_leaf=0.0, n_estimators=10, n_jobs=1,\n",
       "            oob_score=False, random_state=None, verbose=0,\n",
       "            warm_start=False)"
      ]
     },
     "execution_count": 604,
     "metadata": {},
     "output_type": "execute_result"
    }
   ],
   "source": [
    "forest.fit(X_train, y_train)"
   ]
  },
  {
   "cell_type": "code",
   "execution_count": 605,
   "metadata": {},
   "outputs": [
    {
     "data": {
      "text/plain": [
       "0.6220684352172241"
      ]
     },
     "execution_count": 605,
     "metadata": {},
     "output_type": "execute_result"
    }
   ],
   "source": [
    "forest.score(X_train, y_train)"
   ]
  },
  {
   "cell_type": "code",
   "execution_count": 606,
   "metadata": {},
   "outputs": [
    {
     "data": {
      "text/plain": [
       "array([1, 1, 0, ..., 1, 0, 0])"
      ]
     },
     "execution_count": 606,
     "metadata": {},
     "output_type": "execute_result"
    }
   ],
   "source": [
    "forest.predict(X_test)"
   ]
  },
  {
   "cell_type": "code",
   "execution_count": 607,
   "metadata": {},
   "outputs": [
    {
     "data": {
      "text/plain": [
       "0.53998096144693009"
      ]
     },
     "execution_count": 607,
     "metadata": {},
     "output_type": "execute_result"
    }
   ],
   "source": [
    "forest.score(X_test, y_test)"
   ]
  },
  {
   "cell_type": "code",
   "execution_count": 608,
   "metadata": {
    "collapsed": true
   },
   "outputs": [],
   "source": [
    "fi = list(forest.feature_importances_) \n",
    "cl = list(X_test.columns)\n",
    "\n",
    "df7 = pd.DataFrame({'score':fi, \n",
    "                           'name':cl})"
   ]
  },
  {
   "cell_type": "code",
   "execution_count": 609,
   "metadata": {
    "collapsed": true
   },
   "outputs": [
    {
     "data": {
      "text/html": [
       "<div>\n",
       "<style>\n",
       "    .dataframe thead tr:only-child th {\n",
       "        text-align: right;\n",
       "    }\n",
       "\n",
       "    .dataframe thead th {\n",
       "        text-align: left;\n",
       "    }\n",
       "\n",
       "    .dataframe tbody tr th {\n",
       "        vertical-align: top;\n",
       "    }\n",
       "</style>\n",
       "<table border=\"1\" class=\"dataframe\">\n",
       "  <thead>\n",
       "    <tr style=\"text-align: right;\">\n",
       "      <th></th>\n",
       "      <th>name</th>\n",
       "      <th>score</th>\n",
       "    </tr>\n",
       "  </thead>\n",
       "  <tbody>\n",
       "    <tr>\n",
       "      <th>685</th>\n",
       "      <td>question</td>\n",
       "      <td>0.059629</td>\n",
       "    </tr>\n",
       "    <tr>\n",
       "      <th>410</th>\n",
       "      <td>help</td>\n",
       "      <td>0.032295</td>\n",
       "    </tr>\n",
       "    <tr>\n",
       "      <th>715</th>\n",
       "      <td>request</td>\n",
       "      <td>0.026463</td>\n",
       "    </tr>\n",
       "    <tr>\n",
       "      <th>258</th>\n",
       "      <td>don</td>\n",
       "      <td>0.023843</td>\n",
       "    </tr>\n",
       "    <tr>\n",
       "      <th>17</th>\n",
       "      <td>2018</td>\n",
       "      <td>0.022855</td>\n",
       "    </tr>\n",
       "    <tr>\n",
       "      <th>879</th>\n",
       "      <td>til</td>\n",
       "      <td>0.020938</td>\n",
       "    </tr>\n",
       "    <tr>\n",
       "      <th>253</th>\n",
       "      <td>doe</td>\n",
       "      <td>0.018325</td>\n",
       "    </tr>\n",
       "    <tr>\n",
       "      <th>515</th>\n",
       "      <td>looking</td>\n",
       "      <td>0.018268</td>\n",
       "    </tr>\n",
       "    <tr>\n",
       "      <th>251</th>\n",
       "      <td>discussion</td>\n",
       "      <td>0.016535</td>\n",
       "    </tr>\n",
       "    <tr>\n",
       "      <th>877</th>\n",
       "      <td>thread</td>\n",
       "      <td>0.016253</td>\n",
       "    </tr>\n",
       "    <tr>\n",
       "      <th>933</th>\n",
       "      <td>video</td>\n",
       "      <td>0.013423</td>\n",
       "    </tr>\n",
       "    <tr>\n",
       "      <th>435</th>\n",
       "      <td>image</td>\n",
       "      <td>0.013125</td>\n",
       "    </tr>\n",
       "    <tr>\n",
       "      <th>520</th>\n",
       "      <td>love</td>\n",
       "      <td>0.012763</td>\n",
       "    </tr>\n",
       "    <tr>\n",
       "      <th>390</th>\n",
       "      <td>hair</td>\n",
       "      <td>0.011640</td>\n",
       "    </tr>\n",
       "    <tr>\n",
       "      <th>614</th>\n",
       "      <td>order</td>\n",
       "      <td>0.010840</td>\n",
       "    </tr>\n",
       "    <tr>\n",
       "      <th>36</th>\n",
       "      <td>advice</td>\n",
       "      <td>0.010329</td>\n",
       "    </tr>\n",
       "    <tr>\n",
       "      <th>798</th>\n",
       "      <td>song</td>\n",
       "      <td>0.010253</td>\n",
       "    </tr>\n",
       "    <tr>\n",
       "      <th>388</th>\n",
       "      <td>guy</td>\n",
       "      <td>0.009649</td>\n",
       "    </tr>\n",
       "    <tr>\n",
       "      <th>894</th>\n",
       "      <td>trade</td>\n",
       "      <td>0.009524</td>\n",
       "    </tr>\n",
       "    <tr>\n",
       "      <th>350</th>\n",
       "      <td>game</td>\n",
       "      <td>0.009393</td>\n",
       "    </tr>\n",
       "    <tr>\n",
       "      <th>799</th>\n",
       "      <td>soon</td>\n",
       "      <td>0.009199</td>\n",
       "    </tr>\n",
       "    <tr>\n",
       "      <th>567</th>\n",
       "      <td>morning</td>\n",
       "      <td>0.008911</td>\n",
       "    </tr>\n",
       "    <tr>\n",
       "      <th>414</th>\n",
       "      <td>high</td>\n",
       "      <td>0.008654</td>\n",
       "    </tr>\n",
       "    <tr>\n",
       "      <th>448</th>\n",
       "      <td>irl</td>\n",
       "      <td>0.008321</td>\n",
       "    </tr>\n",
       "    <tr>\n",
       "      <th>452</th>\n",
       "      <td>issue</td>\n",
       "      <td>0.008051</td>\n",
       "    </tr>\n",
       "    <tr>\n",
       "      <th>928</th>\n",
       "      <td>valentine day</td>\n",
       "      <td>0.007911</td>\n",
       "    </tr>\n",
       "    <tr>\n",
       "      <th>545</th>\n",
       "      <td>men</td>\n",
       "      <td>0.007907</td>\n",
       "    </tr>\n",
       "    <tr>\n",
       "      <th>588</th>\n",
       "      <td>new</td>\n",
       "      <td>0.007776</td>\n",
       "    </tr>\n",
       "    <tr>\n",
       "      <th>153</th>\n",
       "      <td>car</td>\n",
       "      <td>0.007286</td>\n",
       "    </tr>\n",
       "    <tr>\n",
       "      <th>284</th>\n",
       "      <td>energy</td>\n",
       "      <td>0.007189</td>\n",
       "    </tr>\n",
       "    <tr>\n",
       "      <th>...</th>\n",
       "      <td>...</td>\n",
       "      <td>...</td>\n",
       "    </tr>\n",
       "    <tr>\n",
       "      <th>475</th>\n",
       "      <td>korea</td>\n",
       "      <td>0.000000</td>\n",
       "    </tr>\n",
       "    <tr>\n",
       "      <th>450</th>\n",
       "      <td>island</td>\n",
       "      <td>0.000000</td>\n",
       "    </tr>\n",
       "    <tr>\n",
       "      <th>476</th>\n",
       "      <td>korean</td>\n",
       "      <td>0.000000</td>\n",
       "    </tr>\n",
       "    <tr>\n",
       "      <th>480</th>\n",
       "      <td>landing</td>\n",
       "      <td>0.000000</td>\n",
       "    </tr>\n",
       "    <tr>\n",
       "      <th>481</th>\n",
       "      <td>language</td>\n",
       "      <td>0.000000</td>\n",
       "    </tr>\n",
       "    <tr>\n",
       "      <th>484</th>\n",
       "      <td>launch</td>\n",
       "      <td>0.000000</td>\n",
       "    </tr>\n",
       "    <tr>\n",
       "      <th>486</th>\n",
       "      <td>le</td>\n",
       "      <td>0.000000</td>\n",
       "    </tr>\n",
       "    <tr>\n",
       "      <th>487</th>\n",
       "      <td>leader</td>\n",
       "      <td>0.000000</td>\n",
       "    </tr>\n",
       "    <tr>\n",
       "      <th>489</th>\n",
       "      <td>leak</td>\n",
       "      <td>0.000000</td>\n",
       "    </tr>\n",
       "    <tr>\n",
       "      <th>455</th>\n",
       "      <td>japan</td>\n",
       "      <td>0.000000</td>\n",
       "    </tr>\n",
       "    <tr>\n",
       "      <th>445</th>\n",
       "      <td>internet</td>\n",
       "      <td>0.000000</td>\n",
       "    </tr>\n",
       "    <tr>\n",
       "      <th>407</th>\n",
       "      <td>heavy</td>\n",
       "      <td>0.000000</td>\n",
       "    </tr>\n",
       "    <tr>\n",
       "      <th>424</th>\n",
       "      <td>hope</td>\n",
       "      <td>0.000000</td>\n",
       "    </tr>\n",
       "    <tr>\n",
       "      <th>408</th>\n",
       "      <td>hell</td>\n",
       "      <td>0.000000</td>\n",
       "    </tr>\n",
       "    <tr>\n",
       "      <th>409</th>\n",
       "      <td>hello</td>\n",
       "      <td>0.000000</td>\n",
       "    </tr>\n",
       "    <tr>\n",
       "      <th>416</th>\n",
       "      <td>hill</td>\n",
       "      <td>0.000000</td>\n",
       "    </tr>\n",
       "    <tr>\n",
       "      <th>417</th>\n",
       "      <td>history</td>\n",
       "      <td>0.000000</td>\n",
       "    </tr>\n",
       "    <tr>\n",
       "      <th>419</th>\n",
       "      <td>hmmm</td>\n",
       "      <td>0.000000</td>\n",
       "    </tr>\n",
       "    <tr>\n",
       "      <th>420</th>\n",
       "      <td>hold</td>\n",
       "      <td>0.000000</td>\n",
       "    </tr>\n",
       "    <tr>\n",
       "      <th>421</th>\n",
       "      <td>hole</td>\n",
       "      <td>0.000000</td>\n",
       "    </tr>\n",
       "    <tr>\n",
       "      <th>425</th>\n",
       "      <td>hot</td>\n",
       "      <td>0.000000</td>\n",
       "    </tr>\n",
       "    <tr>\n",
       "      <th>444</th>\n",
       "      <td>interesting</td>\n",
       "      <td>0.000000</td>\n",
       "    </tr>\n",
       "    <tr>\n",
       "      <th>426</th>\n",
       "      <td>hour</td>\n",
       "      <td>0.000000</td>\n",
       "    </tr>\n",
       "    <tr>\n",
       "      <th>428</th>\n",
       "      <td>huge</td>\n",
       "      <td>0.000000</td>\n",
       "    </tr>\n",
       "    <tr>\n",
       "      <th>432</th>\n",
       "      <td>ice</td>\n",
       "      <td>0.000000</td>\n",
       "    </tr>\n",
       "    <tr>\n",
       "      <th>437</th>\n",
       "      <td>increase</td>\n",
       "      <td>0.000000</td>\n",
       "    </tr>\n",
       "    <tr>\n",
       "      <th>438</th>\n",
       "      <td>indian</td>\n",
       "      <td>0.000000</td>\n",
       "    </tr>\n",
       "    <tr>\n",
       "      <th>439</th>\n",
       "      <td>information</td>\n",
       "      <td>0.000000</td>\n",
       "    </tr>\n",
       "    <tr>\n",
       "      <th>440</th>\n",
       "      <td>inside</td>\n",
       "      <td>0.000000</td>\n",
       "    </tr>\n",
       "    <tr>\n",
       "      <th>999</th>\n",
       "      <td>zero</td>\n",
       "      <td>0.000000</td>\n",
       "    </tr>\n",
       "  </tbody>\n",
       "</table>\n",
       "<p>1000 rows × 2 columns</p>\n",
       "</div>"
      ],
      "text/plain": [
       "              name     score\n",
       "685       question  0.059629\n",
       "410           help  0.032295\n",
       "715        request  0.026463\n",
       "258            don  0.023843\n",
       "17            2018  0.022855\n",
       "879            til  0.020938\n",
       "253            doe  0.018325\n",
       "515        looking  0.018268\n",
       "251     discussion  0.016535\n",
       "877         thread  0.016253\n",
       "933          video  0.013423\n",
       "435          image  0.013125\n",
       "520           love  0.012763\n",
       "390           hair  0.011640\n",
       "614          order  0.010840\n",
       "36          advice  0.010329\n",
       "798           song  0.010253\n",
       "388            guy  0.009649\n",
       "894          trade  0.009524\n",
       "350           game  0.009393\n",
       "799           soon  0.009199\n",
       "567        morning  0.008911\n",
       "414           high  0.008654\n",
       "448            irl  0.008321\n",
       "452          issue  0.008051\n",
       "928  valentine day  0.007911\n",
       "545            men  0.007907\n",
       "588            new  0.007776\n",
       "153            car  0.007286\n",
       "284         energy  0.007189\n",
       "..             ...       ...\n",
       "475          korea  0.000000\n",
       "450         island  0.000000\n",
       "476         korean  0.000000\n",
       "480        landing  0.000000\n",
       "481       language  0.000000\n",
       "484         launch  0.000000\n",
       "486             le  0.000000\n",
       "487         leader  0.000000\n",
       "489           leak  0.000000\n",
       "455          japan  0.000000\n",
       "445       internet  0.000000\n",
       "407          heavy  0.000000\n",
       "424           hope  0.000000\n",
       "408           hell  0.000000\n",
       "409          hello  0.000000\n",
       "416           hill  0.000000\n",
       "417        history  0.000000\n",
       "419           hmmm  0.000000\n",
       "420           hold  0.000000\n",
       "421           hole  0.000000\n",
       "425            hot  0.000000\n",
       "444    interesting  0.000000\n",
       "426           hour  0.000000\n",
       "428           huge  0.000000\n",
       "432            ice  0.000000\n",
       "437       increase  0.000000\n",
       "438         indian  0.000000\n",
       "439    information  0.000000\n",
       "440         inside  0.000000\n",
       "999           zero  0.000000\n",
       "\n",
       "[1000 rows x 2 columns]"
      ]
     },
     "execution_count": 609,
     "metadata": {},
     "output_type": "execute_result"
    }
   ],
   "source": [
    "df7.sort_values('score', ascending=False)"
   ]
  },
  {
   "cell_type": "code",
   "execution_count": null,
   "metadata": {
    "collapsed": true
   },
   "outputs": [],
   "source": [
    "df7.groupby() df.groupby('County')['Sale (Dollars)'].sum()) "
   ]
  },
  {
   "cell_type": "markdown",
   "metadata": {},
   "source": [
    "# Visualizations "
   ]
  },
  {
   "cell_type": "code",
   "execution_count": 759,
   "metadata": {},
   "outputs": [
    {
     "data": {
      "text/plain": [
       "<matplotlib.axes._subplots.AxesSubplot at 0x1a1f6a5eb8>"
      ]
     },
     "execution_count": 759,
     "metadata": {},
     "output_type": "execute_result"
    },
    {
     "data": {
      "image/png": "[encoded data removed]",
      "text/plain": [
       "<matplotlib.figure.Figure at 0x1a19ca03c8>"
      ]
     },
     "metadata": {
      "image/png": {
       "height": 263,
       "width": 404
      }
     },
     "output_type": "display_data"
    }
   ],
   "source": [
    "sns.regplot(x=reddithot[\"score\"], y=reddithot[\"comments\"], line_kws={\"color\":\"r\",\"alpha\":0.7,\"lw\":5})\n",
    "#sns.plt.show()\n"
   ]
  },
  {
   "cell_type": "code",
   "execution_count": 761,
   "metadata": {},
   "outputs": [
    {
     "data": {
      "text/plain": [
       "<matplotlib.axes._subplots.AxesSubplot at 0x1a196e2710>"
      ]
     },
     "execution_count": 761,
     "metadata": {},
     "output_type": "execute_result"
    },
    {
     "data": {
      "image/png": "[encoded data removed]",
      "text/plain": [
       "<matplotlib.figure.Figure at 0x1a59e33fd0>"
      ]
     },
     "metadata": {
      "image/png": {
       "height": 264,
       "width": 404
      }
     },
     "output_type": "display_data"
    }
   ],
   "source": [
    "sns.regplot(x=reddithot[\"likes_per_minute\"], y=reddithot[\"comments\"], line_kws={\"color\":\"r\",\"alpha\":0.7,\"lw\":5})\n",
    "#sns.plt.show()"
   ]
  },
  {
   "cell_type": "code",
   "execution_count": 762,
   "metadata": {},
   "outputs": [
    {
     "data": {
      "text/plain": [
       "18.652071404513304"
      ]
     },
     "execution_count": 762,
     "metadata": {},
     "output_type": "execute_result"
    }
   ],
   "source": [
    "np.mean(reddit_random.comments.values)"
   ]
  },
  {
   "cell_type": "code",
   "execution_count": 763,
   "metadata": {},
   "outputs": [
    {
     "data": {
      "text/plain": [
       "6.0"
      ]
     },
     "execution_count": 763,
     "metadata": {},
     "output_type": "execute_result"
    }
   ],
   "source": [
    "np.median(reddit_random.comments.values)"
   ]
  },
  {
   "cell_type": "code",
   "execution_count": 764,
   "metadata": {
    "focus": false,
    "id": "4239e458-28bd-4675-8db3-c1d9c02b9854"
   },
   "outputs": [
    {
     "data": {
      "text/plain": [
       "79.648202614379088"
      ]
     },
     "execution_count": 764,
     "metadata": {},
     "output_type": "execute_result"
    }
   ],
   "source": [
    "np.mean(reddithot.comments.values)"
   ]
  },
  {
   "cell_type": "code",
   "execution_count": 765,
   "metadata": {},
   "outputs": [
    {
     "data": {
      "text/plain": [
       "17.0"
      ]
     },
     "execution_count": 765,
     "metadata": {},
     "output_type": "execute_result"
    }
   ],
   "source": [
    "np.median(reddithot.comments.values)"
   ]
  },
  {
   "cell_type": "code",
   "execution_count": 767,
   "metadata": {
    "collapsed": true
   },
   "outputs": [],
   "source": [
    "ggh = pd.DataFrame({'df':['Hot', 'Random'], 'Mean':[np.mean(reddithot.comments.values), np.mean(reddit_random.comments.values)], \n",
    "              'Median':[np.median(reddithot.comments.values), np.median(reddit_random.comments.values)]})"
   ]
  },
  {
   "cell_type": "code",
   "execution_count": 804,
   "metadata": {},
   "outputs": [
    {
     "data": {
      "image/png": "[encoded data removed]",
      "text/plain": [
       "<matplotlib.figure.Figure at 0x10be57860>"
      ]
     },
     "metadata": {
      "image/png": {
       "height": 330,
       "width": 373
      }
     },
     "output_type": "display_data"
    }
   ],
   "source": [
    "reddithot.sort_values('subreddits', ascending=False)['subreddits'].value_counts().head(5).plot(kind='bar')\n",
    "plt.xticks(rotation=60)\n",
    "plt.rc('xtick', labelsize='large')\n",
    "plt.rc('ytick', labelsize='large')"
   ]
  },
  {
   "cell_type": "code",
   "execution_count": 781,
   "metadata": {},
   "outputs": [
    {
     "data": {
      "image/png": "[encoded data removed]",
      "text/plain": [
       "<matplotlib.figure.Figure at 0x1a1a4760f0>"
      ]
     },
     "metadata": {
      "image/png": {
       "height": 290,
       "width": 391
      }
     },
     "output_type": "display_data"
    }
   ],
   "source": [
    "ggh.groupby('df').mean().plot(kind='bar')\n",
    "plt.legend(fontsize = 'large') # Legend\n",
    "plt.xlabel('', fontsize = 'xx-large')\n",
    "plt.ylabel('Mean/Median', fontsize = 'xx-large')\n",
    "plt.rc('xtick', labelsize='large')"
   ]
  },
  {
   "cell_type": "code",
   "execution_count": 946,
   "metadata": {},
   "outputs": [
    {
     "data": {
      "text/plain": [
       "<matplotlib.axes._subplots.AxesSubplot at 0x1a1f92a0b8>"
      ]
     },
     "execution_count": 946,
     "metadata": {},
     "output_type": "execute_result"
    },
    {
     "data": {
      "image/png": "[encoded data removed]",
      "text/plain": [
       "<matplotlib.figure.Figure at 0x1a1ca4b668>"
      ]
     },
     "metadata": {
      "image/png": {
       "height": 268,
       "width": 384
      }
     },
     "output_type": "display_data"
    }
   ],
   "source": [
    "sns.distplot( reddithotreddithot[\"hour_posted\"] )\n"
   ]
  },
  {
   "cell_type": "markdown",
   "metadata": {},
   "source": [
    "# Executive Summary\n",
    "---\n",
    "Put your executive summary in a Markdown cell below."
   ]
  },
  {
   "cell_type": "markdown",
   "metadata": {},
   "source": [
    "This project was completed by:\n",
    "\n",
    "1. Building a webscraper and scraping Reddit\n",
    "\n",
    "2. Analyzing/Cleaning the scraped data\n",
    "\n",
    "3. Building a Random Forest Model and Evaluating it. \n",
    "\n",
    "1.\n",
    "\n",
    "To better understand the differnt between 'hot' posts and 'normal' posts I built two scrapers. The first of these simply scraped the hot page of Reddit. I ran my scraper for about 9 hours using a cloud computing service called Python Anywhere. The second scraper attempted to take a random sample of 'recent' Reddit posts. I did this by first going to a random subthread, then 'hitting the next button' a random number of times (only up to 5 times) and then taking a random post from the page.\n",
    "\n",
    "2.\n",
    "\n",
    "I cleaned the data and created several features which I thought would be important to the overall presentation. I created rate data for both upvotes and comments and created a target variable for the 'hot' data which was all poss that had above a median number of comments.\n",
    "\n",
    "3.\n",
    "\n",
    "I created two Random Forest models, one looking at comments in the 'hot' data that were above the median amount of comments for that data and one looking at 'hot' vs. 'normal' posts."
   ]
  },
  {
   "cell_type": "code",
   "execution_count": null,
   "metadata": {
    "collapsed": true
   },
   "outputs": [],
   "source": []
  }
 ],
 "metadata": {
  "anaconda-cloud": {},
  "kernelspec": {
   "display_name": "Python [default]",
   "language": "python",
   "name": "python3"
  },
  "language_info": {
   "codemirror_mode": {
    "name": "ipython",
    "version": 3
   },
   "file_extension": ".py",
   "mimetype": "text/x-python",
   "name": "python",
   "nbconvert_exporter": "python",
   "pygments_lexer": "ipython3",
   "version": "3.6.4"
  },
  "varInspector": {
   "cols": {
    "lenName": 16,
    "lenType": 16,
    "lenVar": 40
   },
   "kernels_config": {
    "python": {
     "delete_cmd_postfix": "",
     "delete_cmd_prefix": "del ",
     "library": "var_list.py",
     "varRefreshCmd": "print(var_dic_list())"
    },
    "r": {
     "delete_cmd_postfix": ") ",
     "delete_cmd_prefix": "rm(",
     "library": "var_list.r",
     "varRefreshCmd": "cat(var_dic_list()) "
    }
   },
   "types_to_exclude": [
    "module",
    "function",
    "builtin_function_or_method",
    "instance",
    "_Feature"
   ],
   "window_display": false
  }
 },
 "nbformat": 4,
 "nbformat_minor": 1
}
